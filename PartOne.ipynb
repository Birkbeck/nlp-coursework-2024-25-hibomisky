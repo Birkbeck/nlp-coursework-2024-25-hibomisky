{
 "cells": [
  {
   "cell_type": "code",
   "execution_count": 5,
   "id": "aebec68d",
   "metadata": {},
   "outputs": [
    {
     "ename": "ModuleNotFoundError",
     "evalue": "No module named 'nltk'",
     "output_type": "error",
     "traceback": [
      "\u001b[31m---------------------------------------------------------------------------\u001b[39m",
      "\u001b[31mModuleNotFoundError\u001b[39m                       Traceback (most recent call last)",
      "\u001b[36mCell\u001b[39m\u001b[36m \u001b[39m\u001b[32mIn[5]\u001b[39m\u001b[32m, line 1\u001b[39m\n\u001b[32m----> \u001b[39m\u001b[32m1\u001b[39m \u001b[38;5;28;01mimport\u001b[39;00m\u001b[38;5;250m \u001b[39m\u001b[34;01mnltk\u001b[39;00m\n\u001b[32m      2\u001b[39m \u001b[38;5;28;01mimport\u001b[39;00m\u001b[38;5;250m \u001b[39m\u001b[34;01mspacy\u001b[39;00m\n\u001b[32m      3\u001b[39m \u001b[38;5;28;01mfrom\u001b[39;00m\u001b[38;5;250m \u001b[39m\u001b[34;01mpathlib\u001b[39;00m\u001b[38;5;250m \u001b[39m\u001b[38;5;28;01mimport\u001b[39;00m Path\n",
      "\u001b[31mModuleNotFoundError\u001b[39m: No module named 'nltk'"
     ]
    }
   ],
   "source": [
    "import nltk\n",
    "import spacy\n",
    "from pathlib import Path\n",
    "\n",
    "nlp = spacy.load(\"en_core_web_sm\")\n",
    "nlp.max_length = 2000000\n",
    "\n",
    "import pandas as pd\n",
    "import os"
   ]
  },
  {
   "cell_type": "code",
   "execution_count": 4,
   "id": "b6de4e70",
   "metadata": {},
   "outputs": [],
   "source": [
    "\n",
    "\n",
    "def fk_level(text, d):\n",
    "    \"\"\"Returns the Flesch-Kincaid Grade Level of a text (higher grade is more difficult).\n",
    "    Requires a dictionary of syllables per word.\n",
    "\n",
    "    Args:\n",
    "        text (str): The text to analyze.\n",
    "        d (dict): A dictionary of syllables per word.\n",
    "\n",
    "    Returns:\n",
    "        float: The Flesch-Kincaid Grade Level of the text. (higher grade is more difficult)\n",
    "    \"\"\"\n",
    "\n",
    "\n",
    "    data = [] #this is where we will store the data from the novels\n",
    "\n",
    "    novel_directory = Path(novels).glob(\"*.txt\")\n",
    "    #this is a list of all the novels in the directorypython3 -m venv .venv\n",
    "\n",
    "    for filename in novel_directory:\n",
    "        if filename.endswith(\".txt\"):\n",
    "            parts = filename.split(\"_\").repace(\".txt\", \"\")\n",
    "            title, author, year = parts[0], parts[1], parts[2]\n",
    "\n",
    "            with open(os.path.join(novel_directory, filename), \"r\", encoding=\"utf-8\") as file:\n",
    "                text = file.read()\n",
    "                data.append({\"title\": title, \"author\": author, \"year\": year, \"text\": text})\n",
    "    df = pd.DataFrame(data) \n",
    "\n",
    "    df = df.sort_values(\"year\").reset_index(drop=True) \n",
    "    #this will sort the dataframe by year and reset the index\n",
    "    #we need to reset the index because we will be adding new columns to the dataframe later\n",
    "\n",
    "    print(df)\n",
    "\n",
    "    pass"
   ]
  }
 ],
 "metadata": {
  "kernelspec": {
   "display_name": "Python 3",
   "language": "python",
   "name": "python3"
  },
  "language_info": {
   "codemirror_mode": {
    "name": "ipython",
    "version": 3
   },
   "file_extension": ".py",
   "mimetype": "text/x-python",
   "name": "python",
   "nbconvert_exporter": "python",
   "pygments_lexer": "ipython3",
   "version": "3.13.3"
  }
 },
 "nbformat": 4,
 "nbformat_minor": 5
}
